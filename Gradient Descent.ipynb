{
 "cells": [
  {
   "cell_type": "markdown",
   "metadata": {},
   "source": [
    "# Gradient Descent"
   ]
  },
  {
   "cell_type": "markdown",
   "metadata": {},
   "source": [
    "An example of x,y dataset where x is the biking distance and y is the kilocalorie burned.\n",
    "\n",
    "First lets import numpy and lets use its genfromtxt function to load the data to points array, and lets plot the points to see the dataset."
   ]
  },
  {
   "cell_type": "code",
   "execution_count": 2,
   "metadata": {},
   "outputs": [
    {
     "data": {
      "image/png": "[encoded data removed]",
      "text/plain": [
       "<Figure size 432x288 with 1 Axes>"
      ]
     },
     "metadata": {},
     "output_type": "display_data"
    }
   ],
   "source": [
    "from numpy import *\n",
    "import matplotlib.pyplot as plt\n",
    "\n",
    "points = genfromtxt(\"F:/Python Works/Gradient Descent/biking_calorie.csv\", delimiter=\",\")\n",
    "\n",
    "plt.xlabel('Biking Distance')\n",
    "plt.ylabel('Kilocalorie Burned')\n",
    "x = []\n",
    "y = []\n",
    "\n",
    "for i in range(0, len(points)):\n",
    "    x.append(points[i][0])\n",
    "    y.append(points[i][1])\n",
    "\n",
    "plt.scatter(x,y)\n",
    "plt.show()"
   ]
  },
  {
   "cell_type": "markdown",
   "metadata": {},
   "source": [
    "Here, the line of the best fit is the answer\n",
    "         y = mx + b\n",
    "         where m is the slope and b is the intercept\n",
    "         \n",
    "The error measure can be sum of square of errors.\n",
    "         SSE = summation( (y - y^)^2)"
   ]
  },
  {
   "cell_type": "code",
   "execution_count": 6,
   "metadata": {},
   "outputs": [],
   "source": [
    "# defining the function to compute error\n",
    "def compute_error(b, m, points):\n",
    "    totalError = 0\n",
    "    for i in range(0, len(points)):\n",
    "        totalError += (points[i][1] - (m * points[i][0] + b))**2\n",
    "    return totalError/float(len(points))"
   ]
  },
  {
   "cell_type": "code",
   "execution_count": 7,
   "metadata": {},
   "outputs": [
    {
     "data": {
      "text/plain": [
       "6974.208875318891"
      ]
     },
     "execution_count": 7,
     "metadata": {},
     "output_type": "execute_result"
    }
   ],
   "source": [
    "compute_error(2, 3.1, points)"
   ]
  },
  {
   "cell_type": "markdown",
   "metadata": {},
   "source": [
    "The above function appears to be slow. So we try to minimize the error in each step using partial derivative with respect to b and m."
   ]
  },
  {
   "cell_type": "code",
   "execution_count": 8,
   "metadata": {},
   "outputs": [],
   "source": [
    "# using gradient function\n",
    "def step_gradient(b_current, m_current, points, learningRate):\n",
    "    N = float(len(points))\n",
    "    b_gradient = 0\n",
    "    m_gradient = 0\n",
    "    for i in range(0, len(points)):\n",
    "        x = points[i][0]\n",
    "        y = points[i][1]\n",
    "        b_gradient += (-2/N)*(y-(m_current*x + b_current))\n",
    "        m_gradient += (-2/N)*x*(y-(m_current*x+b_current))\n",
    "        \n",
    "    b_new = b_current - learningRate*b_gradient\n",
    "    m_new = m_current - learningRate*m_gradient\n",
    "    return [b_new, m_new]"
   ]
  },
  {
   "cell_type": "markdown",
   "metadata": {},
   "source": [
    "Now we have got the required step gradient descent. So we can run it to get the optimized value of b and m."
   ]
  },
  {
   "cell_type": "code",
   "execution_count": 11,
   "metadata": {},
   "outputs": [],
   "source": [
    "def run(initial_b=0, initial_m=0, num_iterations=1000, learningRate=0.0001):\n",
    "    b = initial_b\n",
    "    m = initial_m\n",
    "    for i in range(num_iterations):\n",
    "        b, m = step_gradient(b, m, points, learningRate)\n",
    "    return [b, m]"
   ]
  },
  {
   "cell_type": "code",
   "execution_count": 12,
   "metadata": {},
   "outputs": [
    {
     "data": {
      "text/plain": [
       "[0.08893651993741346, 1.4777440851894448]"
      ]
     },
     "execution_count": 12,
     "metadata": {},
     "output_type": "execute_result"
    }
   ],
   "source": [
    "run()"
   ]
  },
  {
   "cell_type": "code",
   "execution_count": null,
   "metadata": {},
   "outputs": [],
   "source": []
  }
 ],
 "metadata": {
  "kernelspec": {
   "display_name": "Python 3",
   "language": "python",
   "name": "python3"
  },
  "language_info": {
   "codemirror_mode": {
    "name": "ipython",
    "version": 3
   },
   "file_extension": ".py",
   "mimetype": "text/x-python",
   "name": "python",
   "nbconvert_exporter": "python",
   "pygments_lexer": "ipython3",
   "version": "3.6.5"
  }
 },
 "nbformat": 4,
 "nbformat_minor": 2
}
